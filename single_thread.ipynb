{
 "cells": [
  {
   "cell_type": "code",
   "execution_count": 53,
   "outputs": [],
   "source": [
    "import numpy as np\n",
    "import random\n",
    "import plotly.graph_objs as go\n",
    "from plotly import offline\n",
    "import time"
   ],
   "metadata": {
    "collapsed": false,
    "pycharm": {
     "name": "#%%\n"
    }
   }
  },
  {
   "cell_type": "code",
   "execution_count": 54,
   "outputs": [],
   "source": [
    "publicity_rate_to_single_pull_rate = 12.395 / 4.877\n",
    "\n",
    "focus_regular_weapon_rate = 0.02479 / publicity_rate_to_single_pull_rate\n",
    "focus_regular_stigmata_rate = 0.01240 / publicity_rate_to_single_pull_rate\n",
    "focus_regular_4_star_exclude_up_rate = 0.12395 / publicity_rate_to_single_pull_rate - focus_regular_weapon_rate - focus_regular_stigmata_rate * 3.0\n",
    "expansion_regular_weapon_rate = 0.01831 / publicity_rate_to_single_pull_rate\n",
    "expansion_regular_stigmata_rate = 0.00916 / publicity_rate_to_single_pull_rate\n",
    "expansion_regular_4_star_exclude_up_rate = 0.12395 / publicity_rate_to_single_pull_rate - expansion_regular_weapon_rate - expansion_regular_stigmata_rate * 3.0\n",
    "new_regular_weapon_rate = 0.02479 / publicity_rate_to_single_pull_rate\n",
    "new_regular_stigmata_rate = 0.01240 / publicity_rate_to_single_pull_rate\n",
    "new_regular_4_star_exclude_up_rate = 0.12395 / publicity_rate_to_single_pull_rate - new_regular_weapon_rate - new_regular_stigmata_rate * 3.0\n",
    "\n",
    "# sample_accuracy 为浮点随机数向整数映射时整数的范围，该值越大则保留小数点位越多，越精确，但耗时和空间则越大\n",
    "# banner_size * thread_pool_size 和运行时占用内存正相关，可以根据实际情况调整，乘积为1e7时约占用11.5G内存\n",
    "# banner_size * thread_number 为总共进行的采样次数\n",
    "guarantee_weapon_rate = 0.2\n",
    "guarantee_stigmata_rate = 0.1\n",
    "guarantee_4_star_exclude_up_rate = 1 - guarantee_weapon_rate - guarantee_stigmata_rate * 3\n",
    "guarantee_small = 10\n",
    "guarantee_big = 50\n",
    "\n",
    "# 卡池大小建议最小在1e3，否则可能不准确或者出现越界问题\n",
    "# 新卡池是假设使用了精准的概率和扩充的保底实现的，后续会根据正式服公示消息调整\n",
    "sample_accuracy = int(1e4)\n",
    "banner_size = int(1e6)\n",
    "pnt_threshold = banner_size - int(2e3)\n",
    "gacha_sample_size = int(1e5)\n",
    "x_truncate = 200\n",
    "preserved_size = 1500\n",
    "\n",
    "# -2 非四星装备  -1 四星非UP装备  0 UP武器  1 UP圣痕上  2 UP圣痕中  3 UP圣痕下\n",
    "guarantee_banner, focus_regular_banner, expansion_regular_banner, new_regular_banner = {}, {}, {}, {}"
   ],
   "metadata": {
    "collapsed": false,
    "pycharm": {
     "name": "#%%\n"
    }
   }
  },
  {
   "cell_type": "code",
   "execution_count": 55,
   "outputs": [],
   "source": [
    "def generate_banner():\n",
    "    pnt, val = 0, -1\n",
    "    for i in range(sample_accuracy):\n",
    "        guarantee_banner.update({i: -2})\n",
    "        focus_regular_banner.update({i: -2})\n",
    "        expansion_regular_banner.update({i: -2})\n",
    "        new_regular_banner.update({i: -2})\n",
    "\n",
    "    for i in np.array(\n",
    "            [\n",
    "                guarantee_4_star_exclude_up_rate,\n",
    "                guarantee_weapon_rate,\n",
    "                guarantee_stigmata_rate,\n",
    "                guarantee_stigmata_rate,\n",
    "                guarantee_stigmata_rate\n",
    "            ]) * sample_accuracy:\n",
    "        for j in range(int(i)):\n",
    "            guarantee_banner[pnt] = val\n",
    "            pnt += 1\n",
    "        val += 1\n",
    "\n",
    "    pnt, val = 0, -1\n",
    "    for i in np.array(\n",
    "            [\n",
    "                focus_regular_4_star_exclude_up_rate,\n",
    "                focus_regular_weapon_rate,\n",
    "                focus_regular_stigmata_rate,\n",
    "                focus_regular_stigmata_rate,\n",
    "                focus_regular_stigmata_rate\n",
    "            ]) * sample_accuracy:\n",
    "        for j in range(int(i)):\n",
    "            focus_regular_banner[pnt] = val\n",
    "            pnt += 1\n",
    "        val += 1\n",
    "\n",
    "    pnt, val = 0, -1\n",
    "    for i in np.array(\n",
    "            [\n",
    "                expansion_regular_4_star_exclude_up_rate,\n",
    "                expansion_regular_weapon_rate,\n",
    "                expansion_regular_stigmata_rate,\n",
    "                expansion_regular_stigmata_rate,\n",
    "                expansion_regular_stigmata_rate\n",
    "            ]) * sample_accuracy:\n",
    "        for j in range(int(i)):\n",
    "            expansion_regular_banner[pnt] = val\n",
    "            pnt += 1\n",
    "        val += 1\n",
    "\n",
    "    pnt, val = 0, -1\n",
    "    for i in np.array(\n",
    "            [\n",
    "                new_regular_4_star_exclude_up_rate,\n",
    "                new_regular_weapon_rate,\n",
    "                new_regular_stigmata_rate,\n",
    "                new_regular_stigmata_rate,\n",
    "                new_regular_stigmata_rate\n",
    "            ]) * sample_accuracy:\n",
    "        for j in range(int(i)):\n",
    "            new_regular_banner[pnt] = val\n",
    "            pnt += 1\n",
    "        val += 1\n",
    "\n",
    "\n",
    "generate_banner()"
   ],
   "metadata": {
    "collapsed": false,
    "pycharm": {
     "name": "#%%\n"
    }
   }
  },
  {
   "cell_type": "code",
   "execution_count": 56,
   "outputs": [],
   "source": [
    "class Gacha_Focus:\n",
    "    def __init__(self, args):\n",
    "        self.args = args\n",
    "        self.pity_counter_small = 0\n",
    "        self.pity_counter_big = 0\n",
    "        self.equipment = np.array([0, 0, 0, 0])\n",
    "        self.total_pulling = 0\n",
    "\n",
    "    def single_pull(self):\n",
    "        result = guarantee_banner[self.args['random_pool'][self.args['pnt_random_pool']]] \\\n",
    "            if self.pity_counter_small >= guarantee_small \\\n",
    "            else focus_regular_banner[self.args['random_pool'][self.args['pnt_random_pool']]]\n",
    "        self.args['pnt_random_pool'] += 1\n",
    "\n",
    "        if result >= -1:\n",
    "            self.pity_counter_small = 0\n",
    "\n",
    "            if result >= 0:\n",
    "                self.equipment[result] += 1\n",
    "                return True\n",
    "\n",
    "        return False\n",
    "\n",
    "    def reset_pity_counter(self):\n",
    "        return True if \\\n",
    "            (0 not in self.equipment or\n",
    "             (self.equipment[0] and np.count_nonzero(self.equipment) == 3 and\n",
    "              (self.equipment[1] + self.equipment[2] + self.equipment[3]) >= 4)) \\\n",
    "            else False\n",
    "\n",
    "    def pull(self):\n",
    "        while True:\n",
    "            self.pity_counter_small += 1\n",
    "            self.total_pulling += 1\n",
    "\n",
    "            if self.single_pull() and self.reset_pity_counter():\n",
    "                break\n",
    "\n",
    "        return [self.total_pulling, self.equipment]"
   ],
   "metadata": {
    "collapsed": false,
    "pycharm": {
     "name": "#%%\n"
    }
   }
  },
  {
   "cell_type": "code",
   "execution_count": 57,
   "outputs": [],
   "source": [
    "class Gacha_Expansion:\n",
    "    def __init__(self, args):\n",
    "        self.args = args\n",
    "        self.pity_counter_small = 0\n",
    "        self.pity_counter_big = 0\n",
    "        self.equipment = np.array([0, 0, 0, 0])\n",
    "        self.total_pulling = 0\n",
    "\n",
    "    def single_pull(self):\n",
    "        if self.pity_counter_big >= guarantee_big:\n",
    "            self.pity_counter_small = 0\n",
    "            self.pity_counter_big = 0\n",
    "            self.equipment[random.sample(list(np.where(self.equipment == 0)[0]), 1)[0]] += 1\n",
    "\n",
    "            return True\n",
    "        else:\n",
    "            result = guarantee_banner[self.args['random_pool'][self.args['pnt_random_pool']]] \\\n",
    "                if self.pity_counter_small >= guarantee_small \\\n",
    "                else expansion_regular_banner[self.args['random_pool'][self.args['pnt_random_pool']]]\n",
    "            self.args['pnt_random_pool'] += 1\n",
    "\n",
    "            if result >= -1:\n",
    "                self.pity_counter_small = 0\n",
    "\n",
    "                if result >= 0:\n",
    "                    if self.equipment[result] == 0:\n",
    "                        self.pity_counter_big = 0\n",
    "\n",
    "                    self.equipment[result] += 1\n",
    "                    return True\n",
    "\n",
    "            return False\n",
    "\n",
    "    def reset_pity_counter(self):\n",
    "        return True if \\\n",
    "            (0 not in self.equipment or\n",
    "             (self.equipment[0] and np.count_nonzero(self.equipment) == 3 and\n",
    "              (self.equipment[1] + self.equipment[2] + self.equipment[3]) >= 4)) \\\n",
    "            else False\n",
    "\n",
    "    def pull(self):\n",
    "        while True:\n",
    "            self.pity_counter_small += 1\n",
    "            self.pity_counter_big += 1\n",
    "            self.total_pulling += 1\n",
    "\n",
    "            if self.single_pull() and self.reset_pity_counter():\n",
    "                break\n",
    "\n",
    "        return [self.total_pulling, self.equipment]"
   ],
   "metadata": {
    "collapsed": false,
    "pycharm": {
     "name": "#%%\n"
    }
   }
  },
  {
   "cell_type": "code",
   "execution_count": 58,
   "outputs": [],
   "source": [
    "class Gacha_New:\n",
    "    def __init__(self, args):\n",
    "        self.args = args\n",
    "        self.pity_counter_small = 0\n",
    "        self.pity_counter_big = 0\n",
    "        self.equipment = np.array([0, 0, 0, 0])\n",
    "        self.total_pulling = 0\n",
    "\n",
    "    def single_pull(self):\n",
    "        if self.pity_counter_big >= guarantee_big:\n",
    "            self.pity_counter_small = 0\n",
    "            self.pity_counter_big = 0\n",
    "            self.equipment[random.sample(list(np.where(self.equipment == 0)[0]), 1)[0]] += 1\n",
    "\n",
    "            return True\n",
    "        else:\n",
    "            result = guarantee_banner[self.args['random_pool'][self.args['pnt_random_pool']]] \\\n",
    "                if self.pity_counter_small >= guarantee_small \\\n",
    "                else new_regular_banner[self.args['random_pool'][self.args['pnt_random_pool']]]\n",
    "            self.args['pnt_random_pool'] += 1\n",
    "\n",
    "            if result >= -1:\n",
    "                self.pity_counter_small = 0\n",
    "\n",
    "                if result >= 0:\n",
    "                    if self.equipment[result] == 0:\n",
    "                        self.pity_counter_big = 0\n",
    "\n",
    "                    self.equipment[result] += 1\n",
    "                    return True\n",
    "\n",
    "            return False\n",
    "\n",
    "    def reset_pity_counter(self):\n",
    "        return True if \\\n",
    "            (0 not in self.equipment or\n",
    "             (self.equipment[0] and np.count_nonzero(self.equipment) == 3 and\n",
    "              (self.equipment[1] + self.equipment[2] + self.equipment[3]) >= 4)) \\\n",
    "            else False\n",
    "\n",
    "    def pull(self):\n",
    "        while True:\n",
    "            self.pity_counter_small += 1\n",
    "            self.pity_counter_big += 1\n",
    "            self.total_pulling += 1\n",
    "\n",
    "            if self.single_pull() and self.reset_pity_counter():\n",
    "                break\n",
    "\n",
    "        return [self.total_pulling, self.equipment]"
   ],
   "metadata": {
    "collapsed": false,
    "pycharm": {
     "name": "#%%\n"
    }
   }
  },
  {
   "cell_type": "code",
   "execution_count": 59,
   "outputs": [
    {
     "name": "stdout",
     "output_type": "stream",
     "text": [
      "总共耗时40s\n"
     ]
    }
   ],
   "source": [
    "def test():\n",
    "    # 如果出现了超过1500的结果，那你可能遇到了绝世非酋\n",
    "    y_focus_temp, y_expansion_temp, y_new_temp = [0] * preserved_size, [0] * preserved_size, [0] * preserved_size\n",
    "\n",
    "    args = {\n",
    "        'random_pool': np.random.randint(0, sample_accuracy, banner_size),\n",
    "        'pnt_random_pool': 0\n",
    "    }\n",
    "\n",
    "    for i in range(gacha_sample_size):\n",
    "        result_focus = Gacha_Focus(args).pull()[0]\n",
    "        result_expansion = Gacha_Expansion(args).pull()[0]\n",
    "        result_new = Gacha_New(args).pull()[0]\n",
    "\n",
    "        y_focus_temp[result_focus] += 1\n",
    "        y_expansion_temp[result_expansion] += 1\n",
    "        y_new_temp[result_new] += 1\n",
    "\n",
    "        if args['pnt_random_pool'] >= pnt_threshold:\n",
    "            np.random.shuffle(args['random_pool'])\n",
    "            args['pnt_random_pool'] = 0\n",
    "\n",
    "    return [y_focus_temp, y_expansion_temp, y_new_temp]\n",
    "\n",
    "\n",
    "start_time = time.time()\n",
    "\n",
    "[y_focus, y_expansion, y_new] = test()\n",
    "\n",
    "print('总共耗时{}s'.format(int(time.time() - start_time)))"
   ],
   "metadata": {
    "collapsed": false,
    "pycharm": {
     "name": "#%%\n"
    }
   }
  },
  {
   "cell_type": "code",
   "execution_count": 60,
   "outputs": [
    {
     "data": {
      "application/vnd.plotly.v1+json": {
       "data": [
        {
         "marker": {
          "color": "rgb(255, 0, 0)"
         },
         "mode": "markers",
         "name": "focus",
         "x": [
          0,
          1,
          2,
          3,
          4,
          5,
          6,
          7,
          8,
          9,
          10,
          11,
          12,
          13,
          14,
          15,
          16,
          17,
          18,
          19,
          20,
          21,
          22,
          23,
          24,
          25,
          26,
          27,
          28,
          29,
          30,
          31,
          32,
          33,
          34,
          35,
          36,
          37,
          38,
          39,
          40,
          41,
          42,
          43,
          44,
          45,
          46,
          47,
          48,
          49,
          50,
          51,
          52,
          53,
          54,
          55,
          56,
          57,
          58,
          59,
          60,
          61,
          62,
          63,
          64,
          65,
          66,
          67,
          68,
          69,
          70,
          71,
          72,
          73,
          74,
          75,
          76,
          77,
          78,
          79,
          80,
          81,
          82,
          83,
          84,
          85,
          86,
          87,
          88,
          89,
          90,
          91,
          92,
          93,
          94,
          95,
          96,
          97,
          98,
          99,
          100,
          101,
          102,
          103,
          104,
          105,
          106,
          107,
          108,
          109,
          110,
          111,
          112,
          113,
          114,
          115,
          116,
          117,
          118,
          119,
          120,
          121,
          122,
          123,
          124,
          125,
          126,
          127,
          128,
          129,
          130,
          131,
          132,
          133,
          134,
          135,
          136,
          137,
          138,
          139,
          140,
          141,
          142,
          143,
          144,
          145,
          146,
          147,
          148,
          149,
          150,
          151,
          152,
          153,
          154,
          155,
          156,
          157,
          158,
          159,
          160,
          161,
          162,
          163,
          164,
          165,
          166,
          167,
          168,
          169,
          170,
          171,
          172,
          173,
          174,
          175,
          176,
          177,
          178,
          179,
          180,
          181,
          182,
          183,
          184,
          185,
          186,
          187,
          188,
          189,
          190,
          191,
          192,
          193,
          194,
          195,
          196,
          197,
          198,
          199
         ],
         "y": [
          0,
          0,
          0,
          0,
          0,
          0,
          0,
          0,
          0,
          0,
          1,
          1,
          1,
          0,
          0,
          0,
          1,
          4,
          4,
          5,
          6,
          8,
          14,
          19,
          28,
          29,
          29,
          55,
          34,
          48,
          65,
          94,
          91,
          111,
          126,
          136,
          165,
          170,
          204,
          203,
          281,
          295,
          327,
          290,
          278,
          340,
          367,
          410,
          458,
          448,
          606,
          474,
          572,
          524,
          605,
          606,
          636,
          638,
          650,
          692,
          874,
          786,
          734,
          785,
          803,
          806,
          862,
          830,
          884,
          842,
          1011,
          944,
          861,
          887,
          924,
          941,
          918,
          954,
          921,
          966,
          1091,
          1011,
          1007,
          980,
          957,
          992,
          934,
          960,
          984,
          1020,
          1053,
          955,
          965,
          997,
          957,
          957,
          951,
          977,
          906,
          990,
          966,
          904,
          920,
          953,
          914,
          873,
          859,
          852,
          815,
          868,
          917,
          802,
          787,
          762,
          831,
          798,
          832,
          797,
          726,
          681,
          714,
          734,
          716,
          714,
          644,
          688,
          658,
          664,
          677,
          655,
          659,
          603,
          616,
          661,
          625,
          576,
          568,
          541,
          537,
          504,
          524,
          534,
          462,
          468,
          537,
          501,
          458,
          503,
          435,
          451,
          424,
          391,
          444,
          382,
          361,
          408,
          362,
          372,
          349,
          324,
          334,
          347,
          340,
          298,
          321,
          272,
          277,
          298,
          275,
          269,
          266,
          257,
          279,
          251,
          238,
          239,
          247,
          237,
          233,
          231,
          246,
          215,
          207,
          194,
          174,
          212,
          182,
          171,
          161,
          174,
          163,
          145,
          159,
          164,
          147,
          133,
          132,
          114,
          139,
          114
         ],
         "type": "scatter"
        },
        {
         "marker": {
          "color": "rgb(0, 0, 255)"
         },
         "mode": "markers",
         "name": "expansion",
         "x": [
          0,
          1,
          2,
          3,
          4,
          5,
          6,
          7,
          8,
          9,
          10,
          11,
          12,
          13,
          14,
          15,
          16,
          17,
          18,
          19,
          20,
          21,
          22,
          23,
          24,
          25,
          26,
          27,
          28,
          29,
          30,
          31,
          32,
          33,
          34,
          35,
          36,
          37,
          38,
          39,
          40,
          41,
          42,
          43,
          44,
          45,
          46,
          47,
          48,
          49,
          50,
          51,
          52,
          53,
          54,
          55,
          56,
          57,
          58,
          59,
          60,
          61,
          62,
          63,
          64,
          65,
          66,
          67,
          68,
          69,
          70,
          71,
          72,
          73,
          74,
          75,
          76,
          77,
          78,
          79,
          80,
          81,
          82,
          83,
          84,
          85,
          86,
          87,
          88,
          89,
          90,
          91,
          92,
          93,
          94,
          95,
          96,
          97,
          98,
          99,
          100,
          101,
          102,
          103,
          104,
          105,
          106,
          107,
          108,
          109,
          110,
          111,
          112,
          113,
          114,
          115,
          116,
          117,
          118,
          119,
          120,
          121,
          122,
          123,
          124,
          125,
          126,
          127,
          128,
          129,
          130,
          131,
          132,
          133,
          134,
          135,
          136,
          137,
          138,
          139,
          140,
          141,
          142,
          143,
          144,
          145,
          146,
          147,
          148,
          149,
          150,
          151,
          152,
          153,
          154,
          155,
          156,
          157,
          158,
          159,
          160,
          161,
          162,
          163,
          164,
          165,
          166,
          167,
          168,
          169,
          170,
          171,
          172,
          173,
          174,
          175,
          176,
          177,
          178,
          179,
          180,
          181,
          182,
          183,
          184,
          185,
          186,
          187,
          188,
          189,
          190,
          191,
          192,
          193,
          194,
          195,
          196,
          197,
          198,
          199
         ],
         "y": [
          0,
          0,
          0,
          0,
          0,
          0,
          0,
          0,
          0,
          0,
          0,
          0,
          0,
          0,
          1,
          1,
          4,
          2,
          1,
          3,
          5,
          2,
          5,
          6,
          14,
          13,
          19,
          23,
          22,
          23,
          34,
          43,
          63,
          61,
          76,
          89,
          85,
          102,
          134,
          107,
          176,
          183,
          194,
          209,
          215,
          244,
          244,
          288,
          280,
          307,
          499,
          383,
          366,
          421,
          420,
          458,
          461,
          497,
          515,
          539,
          675,
          615,
          623,
          674,
          723,
          696,
          701,
          709,
          766,
          800,
          1213,
          992,
          987,
          1037,
          1058,
          1046,
          1082,
          1041,
          1058,
          1123,
          2114,
          1241,
          1238,
          1222,
          1253,
          1279,
          1190,
          1198,
          1284,
          1262,
          2136,
          1317,
          1232,
          1291,
          1238,
          1293,
          1224,
          1171,
          1191,
          1237,
          1817,
          1270,
          1148,
          1154,
          1190,
          1154,
          1189,
          1148,
          1130,
          1113,
          1652,
          1130,
          1118,
          1123,
          1061,
          1150,
          1011,
          937,
          1014,
          961,
          1970,
          907,
          925,
          867,
          840,
          744,
          797,
          737,
          752,
          735,
          1312,
          641,
          657,
          581,
          625,
          528,
          539,
          510,
          515,
          467,
          761,
          389,
          418,
          431,
          381,
          375,
          300,
          322,
          311,
          326,
          469,
          253,
          255,
          241,
          223,
          229,
          211,
          211,
          210,
          181,
          509,
          110,
          102,
          125,
          112,
          109,
          87,
          89,
          94,
          86,
          201,
          53,
          63,
          48,
          42,
          42,
          46,
          37,
          41,
          28,
          58,
          19,
          21,
          21,
          16,
          17,
          12,
          9,
          16,
          9,
          22,
          7,
          9,
          5,
          9,
          8,
          9,
          0,
          5,
          3
         ],
         "type": "scatter"
        },
        {
         "marker": {
          "color": "rgb(0, 255, 0)"
         },
         "mode": "markers",
         "name": "new",
         "x": [
          0,
          1,
          2,
          3,
          4,
          5,
          6,
          7,
          8,
          9,
          10,
          11,
          12,
          13,
          14,
          15,
          16,
          17,
          18,
          19,
          20,
          21,
          22,
          23,
          24,
          25,
          26,
          27,
          28,
          29,
          30,
          31,
          32,
          33,
          34,
          35,
          36,
          37,
          38,
          39,
          40,
          41,
          42,
          43,
          44,
          45,
          46,
          47,
          48,
          49,
          50,
          51,
          52,
          53,
          54,
          55,
          56,
          57,
          58,
          59,
          60,
          61,
          62,
          63,
          64,
          65,
          66,
          67,
          68,
          69,
          70,
          71,
          72,
          73,
          74,
          75,
          76,
          77,
          78,
          79,
          80,
          81,
          82,
          83,
          84,
          85,
          86,
          87,
          88,
          89,
          90,
          91,
          92,
          93,
          94,
          95,
          96,
          97,
          98,
          99,
          100,
          101,
          102,
          103,
          104,
          105,
          106,
          107,
          108,
          109,
          110,
          111,
          112,
          113,
          114,
          115,
          116,
          117,
          118,
          119,
          120,
          121,
          122,
          123,
          124,
          125,
          126,
          127,
          128,
          129,
          130,
          131,
          132,
          133,
          134,
          135,
          136,
          137,
          138,
          139,
          140,
          141,
          142,
          143,
          144,
          145,
          146,
          147,
          148,
          149,
          150,
          151,
          152,
          153,
          154,
          155,
          156,
          157,
          158,
          159,
          160,
          161,
          162,
          163,
          164,
          165,
          166,
          167,
          168,
          169,
          170,
          171,
          172,
          173,
          174,
          175,
          176,
          177,
          178,
          179,
          180,
          181,
          182,
          183,
          184,
          185,
          186,
          187,
          188,
          189,
          190,
          191,
          192,
          193,
          194,
          195,
          196,
          197,
          198,
          199
         ],
         "y": [
          0,
          0,
          0,
          0,
          0,
          0,
          0,
          0,
          0,
          0,
          0,
          1,
          0,
          1,
          1,
          1,
          5,
          1,
          6,
          8,
          5,
          7,
          11,
          16,
          19,
          22,
          25,
          39,
          47,
          53,
          65,
          101,
          113,
          132,
          138,
          169,
          155,
          172,
          193,
          231,
          290,
          277,
          313,
          324,
          353,
          381,
          429,
          405,
          438,
          420,
          593,
          527,
          526,
          584,
          594,
          638,
          624,
          656,
          702,
          756,
          870,
          809,
          865,
          876,
          914,
          917,
          945,
          968,
          957,
          956,
          1454,
          1145,
          1217,
          1174,
          1230,
          1229,
          1261,
          1289,
          1228,
          1293,
          2082,
          1350,
          1333,
          1308,
          1331,
          1304,
          1378,
          1288,
          1318,
          1271,
          2074,
          1297,
          1329,
          1300,
          1368,
          1238,
          1240,
          1238,
          1239,
          1198,
          1737,
          1199,
          1111,
          1179,
          1143,
          1098,
          1008,
          1008,
          1087,
          1031,
          1480,
          1071,
          994,
          996,
          931,
          929,
          956,
          869,
          867,
          795,
          1461,
          750,
          697,
          730,
          676,
          700,
          609,
          591,
          626,
          625,
          1049,
          495,
          467,
          491,
          428,
          401,
          375,
          400,
          360,
          368,
          565,
          290,
          290,
          259,
          252,
          210,
          215,
          175,
          215,
          184,
          290,
          171,
          189,
          139,
          147,
          139,
          128,
          117,
          107,
          133,
          303,
          85,
          93,
          72,
          84,
          55,
          51,
          49,
          54,
          43,
          108,
          17,
          30,
          23,
          32,
          13,
          26,
          27,
          19,
          12,
          34,
          10,
          11,
          13,
          10,
          8,
          9,
          6,
          7,
          10,
          9,
          0,
          5,
          1,
          4,
          0,
          2,
          0,
          1,
          0
         ],
         "type": "scatter"
        }
       ],
       "layout": {
        "template": {
         "data": {
          "barpolar": [
           {
            "marker": {
             "line": {
              "color": "rgb(17,17,17)",
              "width": 0.5
             },
             "pattern": {
              "fillmode": "overlay",
              "size": 10,
              "solidity": 0.2
             }
            },
            "type": "barpolar"
           }
          ],
          "bar": [
           {
            "error_x": {
             "color": "#f2f5fa"
            },
            "error_y": {
             "color": "#f2f5fa"
            },
            "marker": {
             "line": {
              "color": "rgb(17,17,17)",
              "width": 0.5
             },
             "pattern": {
              "fillmode": "overlay",
              "size": 10,
              "solidity": 0.2
             }
            },
            "type": "bar"
           }
          ],
          "carpet": [
           {
            "aaxis": {
             "endlinecolor": "#A2B1C6",
             "gridcolor": "#506784",
             "linecolor": "#506784",
             "minorgridcolor": "#506784",
             "startlinecolor": "#A2B1C6"
            },
            "baxis": {
             "endlinecolor": "#A2B1C6",
             "gridcolor": "#506784",
             "linecolor": "#506784",
             "minorgridcolor": "#506784",
             "startlinecolor": "#A2B1C6"
            },
            "type": "carpet"
           }
          ],
          "choropleth": [
           {
            "colorbar": {
             "outlinewidth": 0,
             "ticks": ""
            },
            "type": "choropleth"
           }
          ],
          "contourcarpet": [
           {
            "colorbar": {
             "outlinewidth": 0,
             "ticks": ""
            },
            "type": "contourcarpet"
           }
          ],
          "contour": [
           {
            "colorbar": {
             "outlinewidth": 0,
             "ticks": ""
            },
            "colorscale": [
             [
              0.0,
              "#0d0887"
             ],
             [
              0.1111111111111111,
              "#46039f"
             ],
             [
              0.2222222222222222,
              "#7201a8"
             ],
             [
              0.3333333333333333,
              "#9c179e"
             ],
             [
              0.4444444444444444,
              "#bd3786"
             ],
             [
              0.5555555555555556,
              "#d8576b"
             ],
             [
              0.6666666666666666,
              "#ed7953"
             ],
             [
              0.7777777777777778,
              "#fb9f3a"
             ],
             [
              0.8888888888888888,
              "#fdca26"
             ],
             [
              1.0,
              "#f0f921"
             ]
            ],
            "type": "contour"
           }
          ],
          "heatmapgl": [
           {
            "colorbar": {
             "outlinewidth": 0,
             "ticks": ""
            },
            "colorscale": [
             [
              0.0,
              "#0d0887"
             ],
             [
              0.1111111111111111,
              "#46039f"
             ],
             [
              0.2222222222222222,
              "#7201a8"
             ],
             [
              0.3333333333333333,
              "#9c179e"
             ],
             [
              0.4444444444444444,
              "#bd3786"
             ],
             [
              0.5555555555555556,
              "#d8576b"
             ],
             [
              0.6666666666666666,
              "#ed7953"
             ],
             [
              0.7777777777777778,
              "#fb9f3a"
             ],
             [
              0.8888888888888888,
              "#fdca26"
             ],
             [
              1.0,
              "#f0f921"
             ]
            ],
            "type": "heatmapgl"
           }
          ],
          "heatmap": [
           {
            "colorbar": {
             "outlinewidth": 0,
             "ticks": ""
            },
            "colorscale": [
             [
              0.0,
              "#0d0887"
             ],
             [
              0.1111111111111111,
              "#46039f"
             ],
             [
              0.2222222222222222,
              "#7201a8"
             ],
             [
              0.3333333333333333,
              "#9c179e"
             ],
             [
              0.4444444444444444,
              "#bd3786"
             ],
             [
              0.5555555555555556,
              "#d8576b"
             ],
             [
              0.6666666666666666,
              "#ed7953"
             ],
             [
              0.7777777777777778,
              "#fb9f3a"
             ],
             [
              0.8888888888888888,
              "#fdca26"
             ],
             [
              1.0,
              "#f0f921"
             ]
            ],
            "type": "heatmap"
           }
          ],
          "histogram2dcontour": [
           {
            "colorbar": {
             "outlinewidth": 0,
             "ticks": ""
            },
            "colorscale": [
             [
              0.0,
              "#0d0887"
             ],
             [
              0.1111111111111111,
              "#46039f"
             ],
             [
              0.2222222222222222,
              "#7201a8"
             ],
             [
              0.3333333333333333,
              "#9c179e"
             ],
             [
              0.4444444444444444,
              "#bd3786"
             ],
             [
              0.5555555555555556,
              "#d8576b"
             ],
             [
              0.6666666666666666,
              "#ed7953"
             ],
             [
              0.7777777777777778,
              "#fb9f3a"
             ],
             [
              0.8888888888888888,
              "#fdca26"
             ],
             [
              1.0,
              "#f0f921"
             ]
            ],
            "type": "histogram2dcontour"
           }
          ],
          "histogram2d": [
           {
            "colorbar": {
             "outlinewidth": 0,
             "ticks": ""
            },
            "colorscale": [
             [
              0.0,
              "#0d0887"
             ],
             [
              0.1111111111111111,
              "#46039f"
             ],
             [
              0.2222222222222222,
              "#7201a8"
             ],
             [
              0.3333333333333333,
              "#9c179e"
             ],
             [
              0.4444444444444444,
              "#bd3786"
             ],
             [
              0.5555555555555556,
              "#d8576b"
             ],
             [
              0.6666666666666666,
              "#ed7953"
             ],
             [
              0.7777777777777778,
              "#fb9f3a"
             ],
             [
              0.8888888888888888,
              "#fdca26"
             ],
             [
              1.0,
              "#f0f921"
             ]
            ],
            "type": "histogram2d"
           }
          ],
          "histogram": [
           {
            "marker": {
             "pattern": {
              "fillmode": "overlay",
              "size": 10,
              "solidity": 0.2
             }
            },
            "type": "histogram"
           }
          ],
          "mesh3d": [
           {
            "colorbar": {
             "outlinewidth": 0,
             "ticks": ""
            },
            "type": "mesh3d"
           }
          ],
          "parcoords": [
           {
            "line": {
             "colorbar": {
              "outlinewidth": 0,
              "ticks": ""
             }
            },
            "type": "parcoords"
           }
          ],
          "pie": [
           {
            "automargin": true,
            "type": "pie"
           }
          ],
          "scatter3d": [
           {
            "line": {
             "colorbar": {
              "outlinewidth": 0,
              "ticks": ""
             }
            },
            "marker": {
             "colorbar": {
              "outlinewidth": 0,
              "ticks": ""
             }
            },
            "type": "scatter3d"
           }
          ],
          "scattercarpet": [
           {
            "marker": {
             "colorbar": {
              "outlinewidth": 0,
              "ticks": ""
             }
            },
            "type": "scattercarpet"
           }
          ],
          "scattergeo": [
           {
            "marker": {
             "colorbar": {
              "outlinewidth": 0,
              "ticks": ""
             }
            },
            "type": "scattergeo"
           }
          ],
          "scattergl": [
           {
            "marker": {
             "line": {
              "color": "#283442"
             }
            },
            "type": "scattergl"
           }
          ],
          "scattermapbox": [
           {
            "marker": {
             "colorbar": {
              "outlinewidth": 0,
              "ticks": ""
             }
            },
            "type": "scattermapbox"
           }
          ],
          "scatterpolargl": [
           {
            "marker": {
             "colorbar": {
              "outlinewidth": 0,
              "ticks": ""
             }
            },
            "type": "scatterpolargl"
           }
          ],
          "scatterpolar": [
           {
            "marker": {
             "colorbar": {
              "outlinewidth": 0,
              "ticks": ""
             }
            },
            "type": "scatterpolar"
           }
          ],
          "scatter": [
           {
            "marker": {
             "line": {
              "color": "#283442"
             }
            },
            "type": "scatter"
           }
          ],
          "scatterternary": [
           {
            "marker": {
             "colorbar": {
              "outlinewidth": 0,
              "ticks": ""
             }
            },
            "type": "scatterternary"
           }
          ],
          "surface": [
           {
            "colorbar": {
             "outlinewidth": 0,
             "ticks": ""
            },
            "colorscale": [
             [
              0.0,
              "#0d0887"
             ],
             [
              0.1111111111111111,
              "#46039f"
             ],
             [
              0.2222222222222222,
              "#7201a8"
             ],
             [
              0.3333333333333333,
              "#9c179e"
             ],
             [
              0.4444444444444444,
              "#bd3786"
             ],
             [
              0.5555555555555556,
              "#d8576b"
             ],
             [
              0.6666666666666666,
              "#ed7953"
             ],
             [
              0.7777777777777778,
              "#fb9f3a"
             ],
             [
              0.8888888888888888,
              "#fdca26"
             ],
             [
              1.0,
              "#f0f921"
             ]
            ],
            "type": "surface"
           }
          ],
          "table": [
           {
            "cells": {
             "fill": {
              "color": "#506784"
             },
             "line": {
              "color": "rgb(17,17,17)"
             }
            },
            "header": {
             "fill": {
              "color": "#2a3f5f"
             },
             "line": {
              "color": "rgb(17,17,17)"
             }
            },
            "type": "table"
           }
          ]
         },
         "layout": {
          "annotationdefaults": {
           "arrowcolor": "#f2f5fa",
           "arrowhead": 0,
           "arrowwidth": 1
          },
          "autotypenumbers": "strict",
          "coloraxis": {
           "colorbar": {
            "outlinewidth": 0,
            "ticks": ""
           }
          },
          "colorscale": {
           "diverging": [
            [
             0,
             "#8e0152"
            ],
            [
             0.1,
             "#c51b7d"
            ],
            [
             0.2,
             "#de77ae"
            ],
            [
             0.3,
             "#f1b6da"
            ],
            [
             0.4,
             "#fde0ef"
            ],
            [
             0.5,
             "#f7f7f7"
            ],
            [
             0.6,
             "#e6f5d0"
            ],
            [
             0.7,
             "#b8e186"
            ],
            [
             0.8,
             "#7fbc41"
            ],
            [
             0.9,
             "#4d9221"
            ],
            [
             1,
             "#276419"
            ]
           ],
           "sequential": [
            [
             0.0,
             "#0d0887"
            ],
            [
             0.1111111111111111,
             "#46039f"
            ],
            [
             0.2222222222222222,
             "#7201a8"
            ],
            [
             0.3333333333333333,
             "#9c179e"
            ],
            [
             0.4444444444444444,
             "#bd3786"
            ],
            [
             0.5555555555555556,
             "#d8576b"
            ],
            [
             0.6666666666666666,
             "#ed7953"
            ],
            [
             0.7777777777777778,
             "#fb9f3a"
            ],
            [
             0.8888888888888888,
             "#fdca26"
            ],
            [
             1.0,
             "#f0f921"
            ]
           ],
           "sequentialminus": [
            [
             0.0,
             "#0d0887"
            ],
            [
             0.1111111111111111,
             "#46039f"
            ],
            [
             0.2222222222222222,
             "#7201a8"
            ],
            [
             0.3333333333333333,
             "#9c179e"
            ],
            [
             0.4444444444444444,
             "#bd3786"
            ],
            [
             0.5555555555555556,
             "#d8576b"
            ],
            [
             0.6666666666666666,
             "#ed7953"
            ],
            [
             0.7777777777777778,
             "#fb9f3a"
            ],
            [
             0.8888888888888888,
             "#fdca26"
            ],
            [
             1.0,
             "#f0f921"
            ]
           ]
          },
          "colorway": [
           "#636efa",
           "#EF553B",
           "#00cc96",
           "#ab63fa",
           "#FFA15A",
           "#19d3f3",
           "#FF6692",
           "#B6E880",
           "#FF97FF",
           "#FECB52"
          ],
          "font": {
           "color": "#f2f5fa"
          },
          "geo": {
           "bgcolor": "rgb(17,17,17)",
           "lakecolor": "rgb(17,17,17)",
           "landcolor": "rgb(17,17,17)",
           "showlakes": true,
           "showland": true,
           "subunitcolor": "#506784"
          },
          "hoverlabel": {
           "align": "left"
          },
          "hovermode": "closest",
          "mapbox": {
           "style": "dark"
          },
          "paper_bgcolor": "rgb(17,17,17)",
          "plot_bgcolor": "rgb(17,17,17)",
          "polar": {
           "angularaxis": {
            "gridcolor": "#506784",
            "linecolor": "#506784",
            "ticks": ""
           },
           "bgcolor": "rgb(17,17,17)",
           "radialaxis": {
            "gridcolor": "#506784",
            "linecolor": "#506784",
            "ticks": ""
           }
          },
          "scene": {
           "xaxis": {
            "backgroundcolor": "rgb(17,17,17)",
            "gridcolor": "#506784",
            "gridwidth": 2,
            "linecolor": "#506784",
            "showbackground": true,
            "ticks": "",
            "zerolinecolor": "#C8D4E3"
           },
           "yaxis": {
            "backgroundcolor": "rgb(17,17,17)",
            "gridcolor": "#506784",
            "gridwidth": 2,
            "linecolor": "#506784",
            "showbackground": true,
            "ticks": "",
            "zerolinecolor": "#C8D4E3"
           },
           "zaxis": {
            "backgroundcolor": "rgb(17,17,17)",
            "gridcolor": "#506784",
            "gridwidth": 2,
            "linecolor": "#506784",
            "showbackground": true,
            "ticks": "",
            "zerolinecolor": "#C8D4E3"
           }
          },
          "shapedefaults": {
           "line": {
            "color": "#f2f5fa"
           }
          },
          "sliderdefaults": {
           "bgcolor": "#C8D4E3",
           "bordercolor": "rgb(17,17,17)",
           "borderwidth": 1,
           "tickwidth": 0
          },
          "ternary": {
           "aaxis": {
            "gridcolor": "#506784",
            "linecolor": "#506784",
            "ticks": ""
           },
           "baxis": {
            "gridcolor": "#506784",
            "linecolor": "#506784",
            "ticks": ""
           },
           "bgcolor": "rgb(17,17,17)",
           "caxis": {
            "gridcolor": "#506784",
            "linecolor": "#506784",
            "ticks": ""
           }
          },
          "title": {
           "x": 0.05
          },
          "updatemenudefaults": {
           "bgcolor": "#506784",
           "borderwidth": 0
          },
          "xaxis": {
           "automargin": true,
           "gridcolor": "#283442",
           "linecolor": "#506784",
           "ticks": "",
           "title": {
            "standoff": 15
           },
           "zerolinecolor": "#283442",
           "zerolinewidth": 2
          },
          "yaxis": {
           "automargin": true,
           "gridcolor": "#283442",
           "linecolor": "#506784",
           "ticks": "",
           "title": {
            "standoff": 15
           },
           "zerolinecolor": "#283442",
           "zerolinewidth": 2
          }
         }
        }
       },
       "config": {
        "showLink": false,
        "linkText": "Export to plot.ly",
        "plotlyServerURL": "https://plot.ly"
       }
      },
      "text/html": "<div>                            <div id=\"90ce3f86-7a30-4331-be47-ca74e8cd3820\" class=\"plotly-graph-div\" style=\"height:525px; width:100%;\"></div>            <script type=\"text/javascript\">                require([\"plotly\"], function(Plotly) {                    window.PLOTLYENV=window.PLOTLYENV || {};                                    if (document.getElementById(\"90ce3f86-7a30-4331-be47-ca74e8cd3820\")) {                    Plotly.newPlot(                        \"90ce3f86-7a30-4331-be47-ca74e8cd3820\",                        [{\"marker\":{\"color\":\"rgb(255, 0, 0)\"},\"mode\":\"markers\",\"name\":\"focus\",\"x\":[0,1,2,3,4,5,6,7,8,9,10,11,12,13,14,15,16,17,18,19,20,21,22,23,24,25,26,27,28,29,30,31,32,33,34,35,36,37,38,39,40,41,42,43,44,45,46,47,48,49,50,51,52,53,54,55,56,57,58,59,60,61,62,63,64,65,66,67,68,69,70,71,72,73,74,75,76,77,78,79,80,81,82,83,84,85,86,87,88,89,90,91,92,93,94,95,96,97,98,99,100,101,102,103,104,105,106,107,108,109,110,111,112,113,114,115,116,117,118,119,120,121,122,123,124,125,126,127,128,129,130,131,132,133,134,135,136,137,138,139,140,141,142,143,144,145,146,147,148,149,150,151,152,153,154,155,156,157,158,159,160,161,162,163,164,165,166,167,168,169,170,171,172,173,174,175,176,177,178,179,180,181,182,183,184,185,186,187,188,189,190,191,192,193,194,195,196,197,198,199],\"y\":[0,0,0,0,0,0,0,0,0,0,1,1,1,0,0,0,1,4,4,5,6,8,14,19,28,29,29,55,34,48,65,94,91,111,126,136,165,170,204,203,281,295,327,290,278,340,367,410,458,448,606,474,572,524,605,606,636,638,650,692,874,786,734,785,803,806,862,830,884,842,1011,944,861,887,924,941,918,954,921,966,1091,1011,1007,980,957,992,934,960,984,1020,1053,955,965,997,957,957,951,977,906,990,966,904,920,953,914,873,859,852,815,868,917,802,787,762,831,798,832,797,726,681,714,734,716,714,644,688,658,664,677,655,659,603,616,661,625,576,568,541,537,504,524,534,462,468,537,501,458,503,435,451,424,391,444,382,361,408,362,372,349,324,334,347,340,298,321,272,277,298,275,269,266,257,279,251,238,239,247,237,233,231,246,215,207,194,174,212,182,171,161,174,163,145,159,164,147,133,132,114,139,114],\"type\":\"scatter\"},{\"marker\":{\"color\":\"rgb(0, 0, 255)\"},\"mode\":\"markers\",\"name\":\"expansion\",\"x\":[0,1,2,3,4,5,6,7,8,9,10,11,12,13,14,15,16,17,18,19,20,21,22,23,24,25,26,27,28,29,30,31,32,33,34,35,36,37,38,39,40,41,42,43,44,45,46,47,48,49,50,51,52,53,54,55,56,57,58,59,60,61,62,63,64,65,66,67,68,69,70,71,72,73,74,75,76,77,78,79,80,81,82,83,84,85,86,87,88,89,90,91,92,93,94,95,96,97,98,99,100,101,102,103,104,105,106,107,108,109,110,111,112,113,114,115,116,117,118,119,120,121,122,123,124,125,126,127,128,129,130,131,132,133,134,135,136,137,138,139,140,141,142,143,144,145,146,147,148,149,150,151,152,153,154,155,156,157,158,159,160,161,162,163,164,165,166,167,168,169,170,171,172,173,174,175,176,177,178,179,180,181,182,183,184,185,186,187,188,189,190,191,192,193,194,195,196,197,198,199],\"y\":[0,0,0,0,0,0,0,0,0,0,0,0,0,0,1,1,4,2,1,3,5,2,5,6,14,13,19,23,22,23,34,43,63,61,76,89,85,102,134,107,176,183,194,209,215,244,244,288,280,307,499,383,366,421,420,458,461,497,515,539,675,615,623,674,723,696,701,709,766,800,1213,992,987,1037,1058,1046,1082,1041,1058,1123,2114,1241,1238,1222,1253,1279,1190,1198,1284,1262,2136,1317,1232,1291,1238,1293,1224,1171,1191,1237,1817,1270,1148,1154,1190,1154,1189,1148,1130,1113,1652,1130,1118,1123,1061,1150,1011,937,1014,961,1970,907,925,867,840,744,797,737,752,735,1312,641,657,581,625,528,539,510,515,467,761,389,418,431,381,375,300,322,311,326,469,253,255,241,223,229,211,211,210,181,509,110,102,125,112,109,87,89,94,86,201,53,63,48,42,42,46,37,41,28,58,19,21,21,16,17,12,9,16,9,22,7,9,5,9,8,9,0,5,3],\"type\":\"scatter\"},{\"marker\":{\"color\":\"rgb(0, 255, 0)\"},\"mode\":\"markers\",\"name\":\"new\",\"x\":[0,1,2,3,4,5,6,7,8,9,10,11,12,13,14,15,16,17,18,19,20,21,22,23,24,25,26,27,28,29,30,31,32,33,34,35,36,37,38,39,40,41,42,43,44,45,46,47,48,49,50,51,52,53,54,55,56,57,58,59,60,61,62,63,64,65,66,67,68,69,70,71,72,73,74,75,76,77,78,79,80,81,82,83,84,85,86,87,88,89,90,91,92,93,94,95,96,97,98,99,100,101,102,103,104,105,106,107,108,109,110,111,112,113,114,115,116,117,118,119,120,121,122,123,124,125,126,127,128,129,130,131,132,133,134,135,136,137,138,139,140,141,142,143,144,145,146,147,148,149,150,151,152,153,154,155,156,157,158,159,160,161,162,163,164,165,166,167,168,169,170,171,172,173,174,175,176,177,178,179,180,181,182,183,184,185,186,187,188,189,190,191,192,193,194,195,196,197,198,199],\"y\":[0,0,0,0,0,0,0,0,0,0,0,1,0,1,1,1,5,1,6,8,5,7,11,16,19,22,25,39,47,53,65,101,113,132,138,169,155,172,193,231,290,277,313,324,353,381,429,405,438,420,593,527,526,584,594,638,624,656,702,756,870,809,865,876,914,917,945,968,957,956,1454,1145,1217,1174,1230,1229,1261,1289,1228,1293,2082,1350,1333,1308,1331,1304,1378,1288,1318,1271,2074,1297,1329,1300,1368,1238,1240,1238,1239,1198,1737,1199,1111,1179,1143,1098,1008,1008,1087,1031,1480,1071,994,996,931,929,956,869,867,795,1461,750,697,730,676,700,609,591,626,625,1049,495,467,491,428,401,375,400,360,368,565,290,290,259,252,210,215,175,215,184,290,171,189,139,147,139,128,117,107,133,303,85,93,72,84,55,51,49,54,43,108,17,30,23,32,13,26,27,19,12,34,10,11,13,10,8,9,6,7,10,9,0,5,1,4,0,2,0,1,0],\"type\":\"scatter\"}],                        {\"template\":{\"data\":{\"barpolar\":[{\"marker\":{\"line\":{\"color\":\"rgb(17,17,17)\",\"width\":0.5},\"pattern\":{\"fillmode\":\"overlay\",\"size\":10,\"solidity\":0.2}},\"type\":\"barpolar\"}],\"bar\":[{\"error_x\":{\"color\":\"#f2f5fa\"},\"error_y\":{\"color\":\"#f2f5fa\"},\"marker\":{\"line\":{\"color\":\"rgb(17,17,17)\",\"width\":0.5},\"pattern\":{\"fillmode\":\"overlay\",\"size\":10,\"solidity\":0.2}},\"type\":\"bar\"}],\"carpet\":[{\"aaxis\":{\"endlinecolor\":\"#A2B1C6\",\"gridcolor\":\"#506784\",\"linecolor\":\"#506784\",\"minorgridcolor\":\"#506784\",\"startlinecolor\":\"#A2B1C6\"},\"baxis\":{\"endlinecolor\":\"#A2B1C6\",\"gridcolor\":\"#506784\",\"linecolor\":\"#506784\",\"minorgridcolor\":\"#506784\",\"startlinecolor\":\"#A2B1C6\"},\"type\":\"carpet\"}],\"choropleth\":[{\"colorbar\":{\"outlinewidth\":0,\"ticks\":\"\"},\"type\":\"choropleth\"}],\"contourcarpet\":[{\"colorbar\":{\"outlinewidth\":0,\"ticks\":\"\"},\"type\":\"contourcarpet\"}],\"contour\":[{\"colorbar\":{\"outlinewidth\":0,\"ticks\":\"\"},\"colorscale\":[[0.0,\"#0d0887\"],[0.1111111111111111,\"#46039f\"],[0.2222222222222222,\"#7201a8\"],[0.3333333333333333,\"#9c179e\"],[0.4444444444444444,\"#bd3786\"],[0.5555555555555556,\"#d8576b\"],[0.6666666666666666,\"#ed7953\"],[0.7777777777777778,\"#fb9f3a\"],[0.8888888888888888,\"#fdca26\"],[1.0,\"#f0f921\"]],\"type\":\"contour\"}],\"heatmapgl\":[{\"colorbar\":{\"outlinewidth\":0,\"ticks\":\"\"},\"colorscale\":[[0.0,\"#0d0887\"],[0.1111111111111111,\"#46039f\"],[0.2222222222222222,\"#7201a8\"],[0.3333333333333333,\"#9c179e\"],[0.4444444444444444,\"#bd3786\"],[0.5555555555555556,\"#d8576b\"],[0.6666666666666666,\"#ed7953\"],[0.7777777777777778,\"#fb9f3a\"],[0.8888888888888888,\"#fdca26\"],[1.0,\"#f0f921\"]],\"type\":\"heatmapgl\"}],\"heatmap\":[{\"colorbar\":{\"outlinewidth\":0,\"ticks\":\"\"},\"colorscale\":[[0.0,\"#0d0887\"],[0.1111111111111111,\"#46039f\"],[0.2222222222222222,\"#7201a8\"],[0.3333333333333333,\"#9c179e\"],[0.4444444444444444,\"#bd3786\"],[0.5555555555555556,\"#d8576b\"],[0.6666666666666666,\"#ed7953\"],[0.7777777777777778,\"#fb9f3a\"],[0.8888888888888888,\"#fdca26\"],[1.0,\"#f0f921\"]],\"type\":\"heatmap\"}],\"histogram2dcontour\":[{\"colorbar\":{\"outlinewidth\":0,\"ticks\":\"\"},\"colorscale\":[[0.0,\"#0d0887\"],[0.1111111111111111,\"#46039f\"],[0.2222222222222222,\"#7201a8\"],[0.3333333333333333,\"#9c179e\"],[0.4444444444444444,\"#bd3786\"],[0.5555555555555556,\"#d8576b\"],[0.6666666666666666,\"#ed7953\"],[0.7777777777777778,\"#fb9f3a\"],[0.8888888888888888,\"#fdca26\"],[1.0,\"#f0f921\"]],\"type\":\"histogram2dcontour\"}],\"histogram2d\":[{\"colorbar\":{\"outlinewidth\":0,\"ticks\":\"\"},\"colorscale\":[[0.0,\"#0d0887\"],[0.1111111111111111,\"#46039f\"],[0.2222222222222222,\"#7201a8\"],[0.3333333333333333,\"#9c179e\"],[0.4444444444444444,\"#bd3786\"],[0.5555555555555556,\"#d8576b\"],[0.6666666666666666,\"#ed7953\"],[0.7777777777777778,\"#fb9f3a\"],[0.8888888888888888,\"#fdca26\"],[1.0,\"#f0f921\"]],\"type\":\"histogram2d\"}],\"histogram\":[{\"marker\":{\"pattern\":{\"fillmode\":\"overlay\",\"size\":10,\"solidity\":0.2}},\"type\":\"histogram\"}],\"mesh3d\":[{\"colorbar\":{\"outlinewidth\":0,\"ticks\":\"\"},\"type\":\"mesh3d\"}],\"parcoords\":[{\"line\":{\"colorbar\":{\"outlinewidth\":0,\"ticks\":\"\"}},\"type\":\"parcoords\"}],\"pie\":[{\"automargin\":true,\"type\":\"pie\"}],\"scatter3d\":[{\"line\":{\"colorbar\":{\"outlinewidth\":0,\"ticks\":\"\"}},\"marker\":{\"colorbar\":{\"outlinewidth\":0,\"ticks\":\"\"}},\"type\":\"scatter3d\"}],\"scattercarpet\":[{\"marker\":{\"colorbar\":{\"outlinewidth\":0,\"ticks\":\"\"}},\"type\":\"scattercarpet\"}],\"scattergeo\":[{\"marker\":{\"colorbar\":{\"outlinewidth\":0,\"ticks\":\"\"}},\"type\":\"scattergeo\"}],\"scattergl\":[{\"marker\":{\"line\":{\"color\":\"#283442\"}},\"type\":\"scattergl\"}],\"scattermapbox\":[{\"marker\":{\"colorbar\":{\"outlinewidth\":0,\"ticks\":\"\"}},\"type\":\"scattermapbox\"}],\"scatterpolargl\":[{\"marker\":{\"colorbar\":{\"outlinewidth\":0,\"ticks\":\"\"}},\"type\":\"scatterpolargl\"}],\"scatterpolar\":[{\"marker\":{\"colorbar\":{\"outlinewidth\":0,\"ticks\":\"\"}},\"type\":\"scatterpolar\"}],\"scatter\":[{\"marker\":{\"line\":{\"color\":\"#283442\"}},\"type\":\"scatter\"}],\"scatterternary\":[{\"marker\":{\"colorbar\":{\"outlinewidth\":0,\"ticks\":\"\"}},\"type\":\"scatterternary\"}],\"surface\":[{\"colorbar\":{\"outlinewidth\":0,\"ticks\":\"\"},\"colorscale\":[[0.0,\"#0d0887\"],[0.1111111111111111,\"#46039f\"],[0.2222222222222222,\"#7201a8\"],[0.3333333333333333,\"#9c179e\"],[0.4444444444444444,\"#bd3786\"],[0.5555555555555556,\"#d8576b\"],[0.6666666666666666,\"#ed7953\"],[0.7777777777777778,\"#fb9f3a\"],[0.8888888888888888,\"#fdca26\"],[1.0,\"#f0f921\"]],\"type\":\"surface\"}],\"table\":[{\"cells\":{\"fill\":{\"color\":\"#506784\"},\"line\":{\"color\":\"rgb(17,17,17)\"}},\"header\":{\"fill\":{\"color\":\"#2a3f5f\"},\"line\":{\"color\":\"rgb(17,17,17)\"}},\"type\":\"table\"}]},\"layout\":{\"annotationdefaults\":{\"arrowcolor\":\"#f2f5fa\",\"arrowhead\":0,\"arrowwidth\":1},\"autotypenumbers\":\"strict\",\"coloraxis\":{\"colorbar\":{\"outlinewidth\":0,\"ticks\":\"\"}},\"colorscale\":{\"diverging\":[[0,\"#8e0152\"],[0.1,\"#c51b7d\"],[0.2,\"#de77ae\"],[0.3,\"#f1b6da\"],[0.4,\"#fde0ef\"],[0.5,\"#f7f7f7\"],[0.6,\"#e6f5d0\"],[0.7,\"#b8e186\"],[0.8,\"#7fbc41\"],[0.9,\"#4d9221\"],[1,\"#276419\"]],\"sequential\":[[0.0,\"#0d0887\"],[0.1111111111111111,\"#46039f\"],[0.2222222222222222,\"#7201a8\"],[0.3333333333333333,\"#9c179e\"],[0.4444444444444444,\"#bd3786\"],[0.5555555555555556,\"#d8576b\"],[0.6666666666666666,\"#ed7953\"],[0.7777777777777778,\"#fb9f3a\"],[0.8888888888888888,\"#fdca26\"],[1.0,\"#f0f921\"]],\"sequentialminus\":[[0.0,\"#0d0887\"],[0.1111111111111111,\"#46039f\"],[0.2222222222222222,\"#7201a8\"],[0.3333333333333333,\"#9c179e\"],[0.4444444444444444,\"#bd3786\"],[0.5555555555555556,\"#d8576b\"],[0.6666666666666666,\"#ed7953\"],[0.7777777777777778,\"#fb9f3a\"],[0.8888888888888888,\"#fdca26\"],[1.0,\"#f0f921\"]]},\"colorway\":[\"#636efa\",\"#EF553B\",\"#00cc96\",\"#ab63fa\",\"#FFA15A\",\"#19d3f3\",\"#FF6692\",\"#B6E880\",\"#FF97FF\",\"#FECB52\"],\"font\":{\"color\":\"#f2f5fa\"},\"geo\":{\"bgcolor\":\"rgb(17,17,17)\",\"lakecolor\":\"rgb(17,17,17)\",\"landcolor\":\"rgb(17,17,17)\",\"showlakes\":true,\"showland\":true,\"subunitcolor\":\"#506784\"},\"hoverlabel\":{\"align\":\"left\"},\"hovermode\":\"closest\",\"mapbox\":{\"style\":\"dark\"},\"paper_bgcolor\":\"rgb(17,17,17)\",\"plot_bgcolor\":\"rgb(17,17,17)\",\"polar\":{\"angularaxis\":{\"gridcolor\":\"#506784\",\"linecolor\":\"#506784\",\"ticks\":\"\"},\"bgcolor\":\"rgb(17,17,17)\",\"radialaxis\":{\"gridcolor\":\"#506784\",\"linecolor\":\"#506784\",\"ticks\":\"\"}},\"scene\":{\"xaxis\":{\"backgroundcolor\":\"rgb(17,17,17)\",\"gridcolor\":\"#506784\",\"gridwidth\":2,\"linecolor\":\"#506784\",\"showbackground\":true,\"ticks\":\"\",\"zerolinecolor\":\"#C8D4E3\"},\"yaxis\":{\"backgroundcolor\":\"rgb(17,17,17)\",\"gridcolor\":\"#506784\",\"gridwidth\":2,\"linecolor\":\"#506784\",\"showbackground\":true,\"ticks\":\"\",\"zerolinecolor\":\"#C8D4E3\"},\"zaxis\":{\"backgroundcolor\":\"rgb(17,17,17)\",\"gridcolor\":\"#506784\",\"gridwidth\":2,\"linecolor\":\"#506784\",\"showbackground\":true,\"ticks\":\"\",\"zerolinecolor\":\"#C8D4E3\"}},\"shapedefaults\":{\"line\":{\"color\":\"#f2f5fa\"}},\"sliderdefaults\":{\"bgcolor\":\"#C8D4E3\",\"bordercolor\":\"rgb(17,17,17)\",\"borderwidth\":1,\"tickwidth\":0},\"ternary\":{\"aaxis\":{\"gridcolor\":\"#506784\",\"linecolor\":\"#506784\",\"ticks\":\"\"},\"baxis\":{\"gridcolor\":\"#506784\",\"linecolor\":\"#506784\",\"ticks\":\"\"},\"bgcolor\":\"rgb(17,17,17)\",\"caxis\":{\"gridcolor\":\"#506784\",\"linecolor\":\"#506784\",\"ticks\":\"\"}},\"title\":{\"x\":0.05},\"updatemenudefaults\":{\"bgcolor\":\"#506784\",\"borderwidth\":0},\"xaxis\":{\"automargin\":true,\"gridcolor\":\"#283442\",\"linecolor\":\"#506784\",\"ticks\":\"\",\"title\":{\"standoff\":15},\"zerolinecolor\":\"#283442\",\"zerolinewidth\":2},\"yaxis\":{\"automargin\":true,\"gridcolor\":\"#283442\",\"linecolor\":\"#506784\",\"ticks\":\"\",\"title\":{\"standoff\":15},\"zerolinecolor\":\"#283442\",\"zerolinewidth\":2}}}},                        {\"responsive\": true}                    ).then(function(){\n                            \nvar gd = document.getElementById('90ce3f86-7a30-4331-be47-ca74e8cd3820');\nvar x = new MutationObserver(function (mutations, observer) {{\n        var display = window.getComputedStyle(gd).display;\n        if (!display || display === 'none') {{\n            console.log([gd, 'removed!']);\n            Plotly.purge(gd);\n            observer.disconnect();\n        }}\n}});\n\n// Listen for the removal of the full notebook cells\nvar notebookContainer = gd.closest('#notebook-container');\nif (notebookContainer) {{\n    x.observe(notebookContainer, {childList: true});\n}}\n\n// Listen for the clearing of the current output cell\nvar outputEl = gd.closest('.output');\nif (outputEl) {{\n    x.observe(outputEl, {childList: true});\n}}\n\n                        })                };                });            </script>        </div>"
     },
     "metadata": {},
     "output_type": "display_data"
    }
   ],
   "source": [
    "def draw_result():\n",
    "    data = [\n",
    "        go.Scatter(\n",
    "            x=[i for i in range(x_truncate)],\n",
    "            y=y_focus[:x_truncate],\n",
    "            mode='markers',\n",
    "            marker={\n",
    "                'color': 'rgb(255, 0, 0)'\n",
    "            },\n",
    "            name='focus'\n",
    "        ),\n",
    "        go.Scatter(\n",
    "            x=[i for i in range(x_truncate)],\n",
    "            y=y_expansion[:x_truncate],\n",
    "            mode='markers',\n",
    "            marker={\n",
    "                'color': 'rgb(0, 0, 255)'\n",
    "            },\n",
    "            name='expansion'\n",
    "        ),\n",
    "        go.Scatter(\n",
    "            x=[i for i in range(x_truncate)],\n",
    "            y=y_new[:x_truncate],\n",
    "            mode='markers',\n",
    "            marker={\n",
    "                'color': 'rgb(0, 255, 0)'\n",
    "            },\n",
    "            name='new'\n",
    "        ),\n",
    "    ]\n",
    "    fig = go.Figure(\n",
    "        data=data\n",
    "    )\n",
    "    offline.iplot(fig)\n",
    "\n",
    "draw_result()"
   ],
   "metadata": {
    "collapsed": false,
    "pycharm": {
     "name": "#%%\n"
    }
   }
  },
  {
   "cell_type": "code",
   "execution_count": 61,
   "outputs": [
    {
     "name": "stdout",
     "output_type": "stream",
     "text": [
      "精准补给平均数: 98.58257\n",
      "扩充补给平均数: 99.07852\n",
      "新补给池平均数: 99.07852\n",
      "精准补给中位数: 101\n",
      "扩充补给中位数: 98\n",
      "新补给池中位数: 91\n"
     ]
    }
   ],
   "source": [
    "def generate_statistics():\n",
    "    # 因为离群点的存在，原始数据中的众数好像不是很有意义，想要了解的可以直接与上图交互\n",
    "    sum_focus, sum_expansion, sum_new = 0, 0, 0\n",
    "    num_focus, num_expansion, num_new = sum(y_focus), sum(y_expansion), sum(y_new)\n",
    "\n",
    "    for i in range(x_truncate):\n",
    "        sum_focus += i * y_focus[i]\n",
    "        sum_expansion += i * y_expansion[i]\n",
    "        sum_new += i * y_expansion[i]\n",
    "\n",
    "    print('精准补给平均数: {}'.format(sum_focus / num_focus))\n",
    "    print('扩充补给平均数: {}'.format(sum_expansion / num_expansion))\n",
    "    print('新补给池平均数: {}'.format(sum_new / num_new))\n",
    "\n",
    "    temp_num_focus, temp_num_expansion, temp_num_new = num_focus / 2.0, num_expansion / 2.0, num_new / 2.0\n",
    "\n",
    "    for i in range(x_truncate):\n",
    "        if temp_num_focus >= y_focus[i]:\n",
    "            temp_num_focus -= y_focus[i]\n",
    "        else:\n",
    "            print('精准补给中位数: {}'.format(i))\n",
    "            break\n",
    "\n",
    "    for i in range(x_truncate):\n",
    "        if temp_num_expansion >= y_expansion[i]:\n",
    "            temp_num_expansion -= y_expansion[i]\n",
    "        else:\n",
    "            print('扩充补给中位数: {}'.format(i))\n",
    "            break\n",
    "\n",
    "    for i in range(x_truncate):\n",
    "        if temp_num_new >= y_new[i]:\n",
    "            temp_num_new -= y_new[i]\n",
    "        else:\n",
    "            print('新补给池中位数: {}'.format(i))\n",
    "            break\n",
    "\n",
    "generate_statistics()"
   ],
   "metadata": {
    "collapsed": false,
    "pycharm": {
     "name": "#%%\n"
    }
   }
  },
  {
   "cell_type": "code",
   "execution_count": 61,
   "outputs": [],
   "source": [],
   "metadata": {
    "collapsed": false,
    "pycharm": {
     "name": "#%%\n"
    }
   }
  }
 ],
 "metadata": {
  "kernelspec": {
   "display_name": "Python 3",
   "language": "python",
   "name": "python3"
  },
  "language_info": {
   "codemirror_mode": {
    "name": "ipython",
    "version": 2
   },
   "file_extension": ".py",
   "mimetype": "text/x-python",
   "name": "python",
   "nbconvert_exporter": "python",
   "pygments_lexer": "ipython2",
   "version": "2.7.6"
  }
 },
 "nbformat": 4,
 "nbformat_minor": 0
}